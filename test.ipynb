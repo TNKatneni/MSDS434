{
 "cells": [
  {
   "cell_type": "code",
   "execution_count": null,
   "metadata": {},
   "outputs": [
    {
     "name": "stdout",
     "output_type": "stream",
     "text": [
      "Checking API Status...\n",
      "✅ API is running: {'message': 'Housing Prediction API is up!'}\n"
     ]
    }
   ],
   "source": [
    "import requests\n",
    "import json\n",
    "\n",
    "# Hardcoded API URL (for example purposes)\n",
    "API_URL = \"http://housing-env-tarun.eba-yqe6rvhc.us-east-1.elasticbeanstalk.com/\"\n",
    "\n",
    "# Check API status\n",
    "def check_api_status():\n",
    "    response = requests.get(f\"{API_URL}/\")\n",
    "    if response.status_code == 200:\n",
    "        print(\"✅ API is running:\", response.json())\n",
    "    else:\n",
    "        print(\"❌ API might not be running:\", response.status_code, response.text)\n",
    "\n",
    "print(\"Checking API Status...\")\n",
    "check_api_status()\n"
   ]
  },
  {
   "cell_type": "code",
   "execution_count": 27,
   "metadata": {},
   "outputs": [
    {
     "name": "stdout",
     "output_type": "stream",
     "text": [
      "\n",
      "Testing Prediction Endpoint...\n",
      "❌ Prediction failed: 500 <!DOCTYPE HTML PUBLIC \"-//W3C//DTD HTML 3.2 Final//EN\">\n",
      "<title>500 Internal Server Error</title>\n",
      "<h1>Internal Server Error</h1>\n",
      "<p>The server encountered an internal error and was unable to complete your request. Either the server is overloaded or there is an error in the application.</p>\n",
      "\n"
     ]
    }
   ],
   "source": [
    "# Test prediction request (Alter the payload values for testing)\n",
    "def test_prediction():\n",
    "    payload = {\n",
    "        \"bedrooms\": 6,\n",
    "        \"bathrooms\": 4,\n",
    "        \"lot_size\": 1.0,\n",
    "        \"house_size\": 3000\n",
    "    }\n",
    "    \n",
    "    response = requests.post(f\"{API_URL}/predict\", json=payload)\n",
    "    \n",
    "    if response.status_code == 200:\n",
    "        print(\"✅ Prediction successful:\", response.json())\n",
    "    else:\n",
    "        print(\"❌ Prediction failed:\", response.status_code, response.text)\n",
    "\n",
    "print(\"\\nTesting Prediction Endpoint...\")\n",
    "test_prediction()"
   ]
  }
 ],
 "metadata": {
  "kernelspec": {
   "display_name": "base",
   "language": "python",
   "name": "python3"
  },
  "language_info": {
   "codemirror_mode": {
    "name": "ipython",
    "version": 3
   },
   "file_extension": ".py",
   "mimetype": "text/x-python",
   "name": "python",
   "nbconvert_exporter": "python",
   "pygments_lexer": "ipython3",
   "version": "3.11.5"
  }
 },
 "nbformat": 4,
 "nbformat_minor": 2
}
