{
 "cells": [
  {
   "cell_type": "code",
   "execution_count": 13,
   "metadata": {},
   "outputs": [
    {
     "name": "stdout",
     "output_type": "stream",
     "text": [
      "Checking API Status...\n",
      "✅ API is running: {'message': 'Housing Prediction API is up!'}\n",
      "\n",
      "Testing Prediction Endpoint...\n",
      "✅ Prediction successful: {'prediction': 781816.7573459392}\n"
     ]
    }
   ],
   "source": [
    "import requests\n",
    "import json\n",
    "\n",
    "API_URL = \"http://housing-env-tarun.eba-ymptpq3e.us-east-1.elasticbeanstalk.com/\"\n",
    "\n",
    "# Check API status\n",
    "def check_api_status():\n",
    "    response = requests.get(f\"{API_URL}/\")\n",
    "    if response.status_code == 200:\n",
    "        print(\"✅ API is running:\", response.json())\n",
    "    else:\n",
    "        print(\"❌ API might not be running:\", response.status_code, response.text)\n",
    "\n",
    "# Test prediction request (Alter the payload values for testing)\n",
    "def test_prediction():\n",
    "    payload = {\n",
    "        \"bedrooms\": 3,\n",
    "        \"bathrooms\": 3,\n",
    "        \"lot_size\": 0.2,\n",
    "        \"house_size\": 1500\n",
    "    }\n",
    "    \n",
    "    response = requests.post(f\"{API_URL}/predict\", json=payload)\n",
    "    \n",
    "    if response.status_code == 200:\n",
    "        print(\"✅ Prediction successful:\", response.json())\n",
    "    else:\n",
    "        print(\"❌ Prediction failed:\", response.status_code, response.text)\n",
    "\n",
    "print(\"Checking API Status...\")\n",
    "check_api_status()\n",
    "\n",
    "print(\"\\nTesting Prediction Endpoint...\")\n",
    "test_prediction()\n"
   ]
  },
  {
   "cell_type": "code",
   "execution_count": 9,
   "metadata": {},
   "outputs": [
    {
     "name": "stdout",
     "output_type": "stream",
     "text": [
      "[NbConvertApp] Converting notebook test.ipynb to markdown\n",
      "[NbConvertApp] Writing 1170 bytes to test.md\n"
     ]
    }
   ],
   "source": [
    "!jupyter nbconvert --to markdown test.ipynb\n"
   ]
  }
 ],
 "metadata": {
  "kernelspec": {
   "display_name": "base",
   "language": "python",
   "name": "python3"
  },
  "language_info": {
   "codemirror_mode": {
    "name": "ipython",
    "version": 3
   },
   "file_extension": ".py",
   "mimetype": "text/x-python",
   "name": "python",
   "nbconvert_exporter": "python",
   "pygments_lexer": "ipython3",
   "version": "3.11.5"
  }
 },
 "nbformat": 4,
 "nbformat_minor": 2
}
